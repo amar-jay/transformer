{
 "cells": [
  {
   "cell_type": "code",
   "execution_count": 122,
   "id": "dc968ac5-ed02-46b3-b06c-869786046bd8",
   "metadata": {},
   "outputs": [
    {
     "data": {
      "text/plain": [
       "'2.1.1+cu121'"
      ]
     },
     "execution_count": 122,
     "metadata": {},
     "output_type": "execute_result"
    }
   ],
   "source": [
    "import torch\n",
    "from torch import nn\n",
    "import torch.nn.functional as F\n",
    "\n",
    "#hyper-params\n",
    "block_size = 128 # length of the input sequences of integers\n",
    "batch_size = 4\n",
    "n_layer = 4\n",
    "n_embd = 128\n",
    "n_head = 4\n",
    "dropout = 0.2\n",
    "vocab_size=83\n",
    "torch.__version__\n"
   ]
  },
  {
   "cell_type": "code",
   "execution_count": 2,
   "id": "ec973f88-b791-4ffc-9c1c-a7e75404086e",
   "metadata": {},
   "outputs": [
    {
     "name": "stdout",
     "output_type": "stream",
     "text": [
      "Akşam erken iner mahpushaneye. Ejderha olsan kar etmez. Ne kavgada ustalığın, Ne de çatal yürek civa\n",
      "data: 3370 count:  (3153, 1958)\n"
     ]
    }
   ],
   "source": [
    "import json\n",
    "import re\n",
    "turkish_pattern = re.compile(r'^[0-9a-zA-ZâçÇğĞıİöÖşŞüÜ\\-\\,\\\"\\'\\!\\?\\.\\n\\s]+$')\n",
    "# num_pattern = re.compile(r'[]+')\n",
    "valid_poems = [] # list of valid poem titles\n",
    "full_text = \"\"\n",
    "with open(\"dataset.json\", \"r\") as f:\n",
    "    data = json.loads(f.read())\n",
    "    count_x = 0\n",
    "    count_y = 0\n",
    "    for i in range(len(data)):\n",
    "        title = data[i]['baslik'].strip().split()\n",
    "        title = \" \".join(title)\n",
    "        author = data[i]['sair'].strip().split()\n",
    "        author = \" \".join(author)\n",
    "        content = data[i]['icerik']\n",
    "        content = \" \".join(content[1:-1])\n",
    "        if re.match(turkish_pattern, title) and re.match(turkish_pattern, author):\n",
    "            count_x += 1\n",
    "            valid_poems.append(title)\n",
    "        if re.match(turkish_pattern, content):\n",
    "            count_y += 1\n",
    "            full_text += content + \".\\n\\n\"\n",
    "    print(full_text[:100])\n",
    "    print(\"data:\", len(data), \"count: \", (count_x, count_y))"
   ]
  },
  {
   "cell_type": "code",
   "execution_count": 3,
   "id": "d3cd66e4-6135-406a-b5c4-c01795569d11",
   "metadata": {},
   "outputs": [
    {
     "name": "stdout",
     "output_type": "stream",
     "text": [
      "dict_keys(['\\n', ' ', '!', '\"', \"'\", ',', '-', '.', '0', '1', '2', '3', '4', '5', '6', '7', '8', '9', '?', 'A', 'B', 'C', 'D', 'E', 'F', 'G', 'H', 'I', 'J', 'K', 'L', 'M', 'N', 'O', 'P', 'Q', 'R', 'S', 'T', 'U', 'V', 'W', 'X', 'Y', 'Z', 'a', 'b', 'c', 'd', 'e', 'f', 'g', 'h', 'i', 'j', 'k', 'l', 'm', 'n', 'o', 'p', 'r', 's', 't', 'u', 'v', 'w', 'x', 'y', 'z', 'Ç', 'Ö', 'Ü', 'â', 'ç', 'ö', 'ü', 'Ğ', 'ğ', 'İ', 'ı', 'Ş', 'ş'])\n",
      "vocab size:  83\n"
     ]
    }
   ],
   "source": [
    "vocabs = sorted(list(set(full_text)))\n",
    "itoa= dict(enumerate(vocabs))\n",
    "atoi = {c: i for i, c in itoa.items()}\n",
    "encoded = [atoi[c] for c in full_text]\n",
    "print(atoi.keys())\n",
    "print(\"vocab size: \", len(vocabs))"
   ]
  },
  {
   "cell_type": "code",
   "execution_count": 4,
   "id": "024fa933-f902-4dd2-b837-cf0ffc2028ec",
   "metadata": {},
   "outputs": [
    {
     "name": "stdout",
     "output_type": "stream",
     "text": [
      "r sözlük kadar kâlbin var bugün okul var ÜLKÜM ülküm YÜKSELMEK yük yük selmek İLERİYEGİTMEKTİR i i ileriy egitmek tir YURDUMU yu\n"
     ]
    },
    {
     "data": {
      "text/plain": [
       "(torch.Size([4, 128]), torch.Size([4, 128]))"
      ]
     },
     "execution_count": 4,
     "metadata": {},
     "output_type": "execute_result"
    }
   ],
   "source": [
    "n = int(0.99 * len(encoded))\n",
    "train_data = torch.tensor(encoded[:n])\n",
    "test_data = torch.tensor(encoded[n:])\n",
    "print(\"\".join([itoa[i.item()] for i in test_data[:128]]))\n",
    "val = [0] * block_size;\n",
    "vals = []\n",
    "for i in range(block_size):\n",
    "    context = test_data[:i+1]\n",
    "    target = test_data[i+1]\n",
    "    # vals.append((context, target))\n",
    "# print(vals)\n",
    "\n",
    "def get_batch(dataset): # fetching batches randomly\n",
    "    dataset = train_data if dataset == 'train' else test_data\n",
    "    idx = torch.randint(0, len(dataset)-block_size-1, (batch_size,))\n",
    "    x = [dataset[i: i+block_size] for i in idx]\n",
    "    y = [dataset[i+1: i+block_size+1] for i in idx]\n",
    "    return torch.stack(x), torch.stack(y)\n",
    "x, y = get_batch('test')\n",
    "x.shape, y.shape"
   ]
  },
  {
   "cell_type": "code",
   "execution_count": 141,
   "id": "ae7a9c0e-33e8-4971-9eac-bd9b94946a56",
   "metadata": {},
   "outputs": [
    {
     "name": "stdout",
     "output_type": "stream",
     "text": [
      "torch.Size([4, 128])\n",
      "0 loss:  5.7806613942484955\n"
     ]
    }
   ],
   "source": [
    "torch.manual_seed(0)\n",
    "class Bigram(nn.Module):\n",
    "    def __init__(self, vocab_size):\n",
    "        super().__init__()\n",
    "        self.tok_emb = nn.Embedding(vocab_size, n_embd, dtype=torch.float64) \n",
    "        self.pos_emb = nn.Embedding(block_size, n_embd, dtype=torch.float64) # positional embedding\n",
    "        # self.out = nn.Linear(n_embd, vocab_size, dtype=torch.float64)\n",
    "\n",
    "    # self.emb.weight /= (n_embd**0.5)\n",
    "    def forward(self, x, targets=None):\n",
    "        loss = None\n",
    "        tok_emb = self.tok_emb(x) #(B, T, C)\n",
    "        B, T, C = tok_emb.shape\n",
    "        pos_emb = self.pos_emb(torch.arange(T)) #(T, C)\n",
    "        x = tok_emb + pos_emb\n",
    "        # x = self.out(x)\n",
    "        loss = F.cross_entropy(x.view(B*T, C), targets.view(B*T)) if targets is not None else None\n",
    "        return tok_emb, loss\n",
    "    \n",
    "    @torch.no_grad()\n",
    "    def generate(self, idx=None, max_tokens=10):\n",
    "        idx = torch.tensor([[0]]) if idx is None else idx\n",
    "        for i in range(max_tokens):\n",
    "            logits, _ = self(idx) # (B, T, C)\n",
    "            \n",
    "            probs = F.softmax(logits[:, -1, :], dim=-1) # (B, C)\n",
    "\n",
    "            idx_next = torch.multinomial(probs, num_samples=1)\n",
    "            print(idx_next.shape,  idx.shape)\n",
    "            print(\"\".join(itoa[i.item()] for i in idx))\n",
    "\n",
    "            # append sampled index to the running sequence and continue\n",
    "            idx = torch.cat((idx, idx_next), dim=1)\n",
    "        return generated\n",
    "\n",
    "epoch = 1\n",
    "model = Bigram(vocab_size)\n",
    "optim = torch.optim.AdamW(model.parameters(), lr=0.01)\n",
    "steps = []\n",
    "for i in range(epoch):\n",
    "    x, targets = get_batch('train')\n",
    "    print(x.shape)\n",
    "    logits, loss = model(x, targets)\n",
    "    optim.zero_grad()\n",
    "    loss.backward()\n",
    "    optim.step()\n",
    "    steps.append(loss)\n",
    "    if i % 500 == 0:\n",
    "        print(i, \"loss: \", loss.item())"
   ]
  },
  {
   "cell_type": "code",
   "execution_count": 121,
   "id": "c9f4525a-6214-4561-b536-51886f9b73a5",
   "metadata": {},
   "outputs": [
    {
     "data": {
      "text/plain": [
       "(1, 3, 127, torch.Size([3, 127]), torch.Size([1, 3, 127]))"
      ]
     },
     "execution_count": 121,
     "metadata": {},
     "output_type": "execute_result"
    }
   ],
   "source": [
    "\n",
    "x = torch.zeros((1,3), dtype=torch.long)\n",
    "res = nn.Embedding(vocab_size, n_embd, dtype=torch.float64)(x)\n",
    "B, T, C = res.shape\n",
    "pos = nn.Embedding(block_size, n_embd, dtype=torch.float64)(torch.arange(T))\n",
    "x = pos + res\n",
    "\n",
    "B, T, C, pos.shape, x.shape\n",
    "# emb(x).shape, block_size"
   ]
  },
  {
   "cell_type": "code",
   "execution_count": 101,
   "id": "802ab215-3238-46ed-86f6-25acba3b904a",
   "metadata": {},
   "outputs": [
    {
     "name": "stdout",
     "output_type": "stream",
     "text": [
      "5.872393388028459 5.742235960107976\n",
      "torch.Size([1, 1]) torch.Size([1, 1])\n",
      "\n",
      "\n"
     ]
    },
    {
     "ename": "IndexError",
     "evalue": "index out of range in self",
     "output_type": "error",
     "traceback": [
      "\u001b[0;31m---------------------------------------------------------------------------\u001b[0m",
      "\u001b[0;31mIndexError\u001b[0m                                Traceback (most recent call last)",
      "Cell \u001b[0;32mIn[101], line 9\u001b[0m\n\u001b[1;32m      5\u001b[0m logits, loss2 \u001b[38;5;241m=\u001b[39m model(x, targets)\n\u001b[1;32m      7\u001b[0m \u001b[38;5;28mprint\u001b[39m(loss1\u001b[38;5;241m.\u001b[39mitem(), loss2\u001b[38;5;241m.\u001b[39mitem())\n\u001b[0;32m----> 9\u001b[0m generated \u001b[38;5;241m=\u001b[39m \u001b[43mmodel\u001b[49m\u001b[38;5;241;43m.\u001b[39;49m\u001b[43mgenerate\u001b[49m\u001b[43m(\u001b[49m\u001b[43m)\u001b[49m\n\u001b[1;32m     10\u001b[0m gen \u001b[38;5;241m=\u001b[39m \u001b[38;5;124m\"\u001b[39m\u001b[38;5;124m\"\u001b[39m\u001b[38;5;241m.\u001b[39mjoin([itoa[c\u001b[38;5;241m.\u001b[39mitem()] \u001b[38;5;28;01mfor\u001b[39;00m c \u001b[38;5;129;01min\u001b[39;00m generated])\n\u001b[1;32m     11\u001b[0m \u001b[38;5;28mprint\u001b[39m(gen)\n",
      "File \u001b[0;32m~/.local/lib/python3.10/site-packages/torch/utils/_contextlib.py:115\u001b[0m, in \u001b[0;36mcontext_decorator.<locals>.decorate_context\u001b[0;34m(*args, **kwargs)\u001b[0m\n\u001b[1;32m    112\u001b[0m \u001b[38;5;129m@functools\u001b[39m\u001b[38;5;241m.\u001b[39mwraps(func)\n\u001b[1;32m    113\u001b[0m \u001b[38;5;28;01mdef\u001b[39;00m \u001b[38;5;21mdecorate_context\u001b[39m(\u001b[38;5;241m*\u001b[39margs, \u001b[38;5;241m*\u001b[39m\u001b[38;5;241m*\u001b[39mkwargs):\n\u001b[1;32m    114\u001b[0m     \u001b[38;5;28;01mwith\u001b[39;00m ctx_factory():\n\u001b[0;32m--> 115\u001b[0m         \u001b[38;5;28;01mreturn\u001b[39;00m \u001b[43mfunc\u001b[49m\u001b[43m(\u001b[49m\u001b[38;5;241;43m*\u001b[39;49m\u001b[43margs\u001b[49m\u001b[43m,\u001b[49m\u001b[43m \u001b[49m\u001b[38;5;241;43m*\u001b[39;49m\u001b[38;5;241;43m*\u001b[39;49m\u001b[43mkwargs\u001b[49m\u001b[43m)\u001b[49m\n",
      "Cell \u001b[0;32mIn[96], line 22\u001b[0m, in \u001b[0;36mBigram.generate\u001b[0;34m(self, idx, max_tokens)\u001b[0m\n\u001b[1;32m     20\u001b[0m idx \u001b[38;5;241m=\u001b[39m torch\u001b[38;5;241m.\u001b[39mtensor([[\u001b[38;5;241m0\u001b[39m]]) \u001b[38;5;28;01mif\u001b[39;00m idx \u001b[38;5;129;01mis\u001b[39;00m \u001b[38;5;28;01mNone\u001b[39;00m \u001b[38;5;28;01melse\u001b[39;00m idx\n\u001b[1;32m     21\u001b[0m \u001b[38;5;28;01mfor\u001b[39;00m i \u001b[38;5;129;01min\u001b[39;00m \u001b[38;5;28mrange\u001b[39m(max_tokens):\n\u001b[0;32m---> 22\u001b[0m     logits, _ \u001b[38;5;241m=\u001b[39m \u001b[38;5;28;43mself\u001b[39;49m\u001b[43m(\u001b[49m\u001b[43midx\u001b[49m\u001b[43m)\u001b[49m \u001b[38;5;66;03m# (B, T, C)\u001b[39;00m\n\u001b[1;32m     24\u001b[0m     probs \u001b[38;5;241m=\u001b[39m F\u001b[38;5;241m.\u001b[39msoftmax(logits[:, \u001b[38;5;241m-\u001b[39m\u001b[38;5;241m1\u001b[39m, :], dim\u001b[38;5;241m=\u001b[39m\u001b[38;5;241m-\u001b[39m\u001b[38;5;241m1\u001b[39m) \u001b[38;5;66;03m# (B, C)\u001b[39;00m\n\u001b[1;32m     26\u001b[0m     idx_next \u001b[38;5;241m=\u001b[39m torch\u001b[38;5;241m.\u001b[39mmultinomial(probs, num_samples\u001b[38;5;241m=\u001b[39m\u001b[38;5;241m1\u001b[39m)\n",
      "File \u001b[0;32m~/.local/lib/python3.10/site-packages/torch/nn/modules/module.py:1518\u001b[0m, in \u001b[0;36mModule._wrapped_call_impl\u001b[0;34m(self, *args, **kwargs)\u001b[0m\n\u001b[1;32m   1516\u001b[0m     \u001b[38;5;28;01mreturn\u001b[39;00m \u001b[38;5;28mself\u001b[39m\u001b[38;5;241m.\u001b[39m_compiled_call_impl(\u001b[38;5;241m*\u001b[39margs, \u001b[38;5;241m*\u001b[39m\u001b[38;5;241m*\u001b[39mkwargs)  \u001b[38;5;66;03m# type: ignore[misc]\u001b[39;00m\n\u001b[1;32m   1517\u001b[0m \u001b[38;5;28;01melse\u001b[39;00m:\n\u001b[0;32m-> 1518\u001b[0m     \u001b[38;5;28;01mreturn\u001b[39;00m \u001b[38;5;28;43mself\u001b[39;49m\u001b[38;5;241;43m.\u001b[39;49m\u001b[43m_call_impl\u001b[49m\u001b[43m(\u001b[49m\u001b[38;5;241;43m*\u001b[39;49m\u001b[43margs\u001b[49m\u001b[43m,\u001b[49m\u001b[43m \u001b[49m\u001b[38;5;241;43m*\u001b[39;49m\u001b[38;5;241;43m*\u001b[39;49m\u001b[43mkwargs\u001b[49m\u001b[43m)\u001b[49m\n",
      "File \u001b[0;32m~/.local/lib/python3.10/site-packages/torch/nn/modules/module.py:1527\u001b[0m, in \u001b[0;36mModule._call_impl\u001b[0;34m(self, *args, **kwargs)\u001b[0m\n\u001b[1;32m   1522\u001b[0m \u001b[38;5;66;03m# If we don't have any hooks, we want to skip the rest of the logic in\u001b[39;00m\n\u001b[1;32m   1523\u001b[0m \u001b[38;5;66;03m# this function, and just call forward.\u001b[39;00m\n\u001b[1;32m   1524\u001b[0m \u001b[38;5;28;01mif\u001b[39;00m \u001b[38;5;129;01mnot\u001b[39;00m (\u001b[38;5;28mself\u001b[39m\u001b[38;5;241m.\u001b[39m_backward_hooks \u001b[38;5;129;01mor\u001b[39;00m \u001b[38;5;28mself\u001b[39m\u001b[38;5;241m.\u001b[39m_backward_pre_hooks \u001b[38;5;129;01mor\u001b[39;00m \u001b[38;5;28mself\u001b[39m\u001b[38;5;241m.\u001b[39m_forward_hooks \u001b[38;5;129;01mor\u001b[39;00m \u001b[38;5;28mself\u001b[39m\u001b[38;5;241m.\u001b[39m_forward_pre_hooks\n\u001b[1;32m   1525\u001b[0m         \u001b[38;5;129;01mor\u001b[39;00m _global_backward_pre_hooks \u001b[38;5;129;01mor\u001b[39;00m _global_backward_hooks\n\u001b[1;32m   1526\u001b[0m         \u001b[38;5;129;01mor\u001b[39;00m _global_forward_hooks \u001b[38;5;129;01mor\u001b[39;00m _global_forward_pre_hooks):\n\u001b[0;32m-> 1527\u001b[0m     \u001b[38;5;28;01mreturn\u001b[39;00m \u001b[43mforward_call\u001b[49m\u001b[43m(\u001b[49m\u001b[38;5;241;43m*\u001b[39;49m\u001b[43margs\u001b[49m\u001b[43m,\u001b[49m\u001b[43m \u001b[49m\u001b[38;5;241;43m*\u001b[39;49m\u001b[38;5;241;43m*\u001b[39;49m\u001b[43mkwargs\u001b[49m\u001b[43m)\u001b[49m\n\u001b[1;32m   1529\u001b[0m \u001b[38;5;28;01mtry\u001b[39;00m:\n\u001b[1;32m   1530\u001b[0m     result \u001b[38;5;241m=\u001b[39m \u001b[38;5;28;01mNone\u001b[39;00m\n",
      "Cell \u001b[0;32mIn[96], line 11\u001b[0m, in \u001b[0;36mBigram.forward\u001b[0;34m(self, x, targets)\u001b[0m\n\u001b[1;32m      9\u001b[0m \u001b[38;5;28;01mdef\u001b[39;00m \u001b[38;5;21mforward\u001b[39m(\u001b[38;5;28mself\u001b[39m, x, targets\u001b[38;5;241m=\u001b[39m\u001b[38;5;28;01mNone\u001b[39;00m):\n\u001b[1;32m     10\u001b[0m     loss \u001b[38;5;241m=\u001b[39m \u001b[38;5;28;01mNone\u001b[39;00m\n\u001b[0;32m---> 11\u001b[0m     tok_emb \u001b[38;5;241m=\u001b[39m \u001b[38;5;28;43mself\u001b[39;49m\u001b[38;5;241;43m.\u001b[39;49m\u001b[43mtok_emb\u001b[49m\u001b[43m(\u001b[49m\u001b[43mx\u001b[49m\u001b[43m)\u001b[49m \u001b[38;5;66;03m#(B, T, C)\u001b[39;00m\n\u001b[1;32m     12\u001b[0m     B, T, C \u001b[38;5;241m=\u001b[39m tok_emb\u001b[38;5;241m.\u001b[39mshape\n\u001b[1;32m     13\u001b[0m     pos_emb \u001b[38;5;241m=\u001b[39m \u001b[38;5;28mself\u001b[39m\u001b[38;5;241m.\u001b[39mpos_emb(torch\u001b[38;5;241m.\u001b[39marange(T)) \u001b[38;5;66;03m#(T, C)\u001b[39;00m\n",
      "File \u001b[0;32m~/.local/lib/python3.10/site-packages/torch/nn/modules/module.py:1518\u001b[0m, in \u001b[0;36mModule._wrapped_call_impl\u001b[0;34m(self, *args, **kwargs)\u001b[0m\n\u001b[1;32m   1516\u001b[0m     \u001b[38;5;28;01mreturn\u001b[39;00m \u001b[38;5;28mself\u001b[39m\u001b[38;5;241m.\u001b[39m_compiled_call_impl(\u001b[38;5;241m*\u001b[39margs, \u001b[38;5;241m*\u001b[39m\u001b[38;5;241m*\u001b[39mkwargs)  \u001b[38;5;66;03m# type: ignore[misc]\u001b[39;00m\n\u001b[1;32m   1517\u001b[0m \u001b[38;5;28;01melse\u001b[39;00m:\n\u001b[0;32m-> 1518\u001b[0m     \u001b[38;5;28;01mreturn\u001b[39;00m \u001b[38;5;28;43mself\u001b[39;49m\u001b[38;5;241;43m.\u001b[39;49m\u001b[43m_call_impl\u001b[49m\u001b[43m(\u001b[49m\u001b[38;5;241;43m*\u001b[39;49m\u001b[43margs\u001b[49m\u001b[43m,\u001b[49m\u001b[43m \u001b[49m\u001b[38;5;241;43m*\u001b[39;49m\u001b[38;5;241;43m*\u001b[39;49m\u001b[43mkwargs\u001b[49m\u001b[43m)\u001b[49m\n",
      "File \u001b[0;32m~/.local/lib/python3.10/site-packages/torch/nn/modules/module.py:1527\u001b[0m, in \u001b[0;36mModule._call_impl\u001b[0;34m(self, *args, **kwargs)\u001b[0m\n\u001b[1;32m   1522\u001b[0m \u001b[38;5;66;03m# If we don't have any hooks, we want to skip the rest of the logic in\u001b[39;00m\n\u001b[1;32m   1523\u001b[0m \u001b[38;5;66;03m# this function, and just call forward.\u001b[39;00m\n\u001b[1;32m   1524\u001b[0m \u001b[38;5;28;01mif\u001b[39;00m \u001b[38;5;129;01mnot\u001b[39;00m (\u001b[38;5;28mself\u001b[39m\u001b[38;5;241m.\u001b[39m_backward_hooks \u001b[38;5;129;01mor\u001b[39;00m \u001b[38;5;28mself\u001b[39m\u001b[38;5;241m.\u001b[39m_backward_pre_hooks \u001b[38;5;129;01mor\u001b[39;00m \u001b[38;5;28mself\u001b[39m\u001b[38;5;241m.\u001b[39m_forward_hooks \u001b[38;5;129;01mor\u001b[39;00m \u001b[38;5;28mself\u001b[39m\u001b[38;5;241m.\u001b[39m_forward_pre_hooks\n\u001b[1;32m   1525\u001b[0m         \u001b[38;5;129;01mor\u001b[39;00m _global_backward_pre_hooks \u001b[38;5;129;01mor\u001b[39;00m _global_backward_hooks\n\u001b[1;32m   1526\u001b[0m         \u001b[38;5;129;01mor\u001b[39;00m _global_forward_hooks \u001b[38;5;129;01mor\u001b[39;00m _global_forward_pre_hooks):\n\u001b[0;32m-> 1527\u001b[0m     \u001b[38;5;28;01mreturn\u001b[39;00m \u001b[43mforward_call\u001b[49m\u001b[43m(\u001b[49m\u001b[38;5;241;43m*\u001b[39;49m\u001b[43margs\u001b[49m\u001b[43m,\u001b[49m\u001b[43m \u001b[49m\u001b[38;5;241;43m*\u001b[39;49m\u001b[38;5;241;43m*\u001b[39;49m\u001b[43mkwargs\u001b[49m\u001b[43m)\u001b[49m\n\u001b[1;32m   1529\u001b[0m \u001b[38;5;28;01mtry\u001b[39;00m:\n\u001b[1;32m   1530\u001b[0m     result \u001b[38;5;241m=\u001b[39m \u001b[38;5;28;01mNone\u001b[39;00m\n",
      "File \u001b[0;32m~/.local/lib/python3.10/site-packages/torch/nn/modules/sparse.py:162\u001b[0m, in \u001b[0;36mEmbedding.forward\u001b[0;34m(self, input)\u001b[0m\n\u001b[1;32m    161\u001b[0m \u001b[38;5;28;01mdef\u001b[39;00m \u001b[38;5;21mforward\u001b[39m(\u001b[38;5;28mself\u001b[39m, \u001b[38;5;28minput\u001b[39m: Tensor) \u001b[38;5;241m-\u001b[39m\u001b[38;5;241m>\u001b[39m Tensor:\n\u001b[0;32m--> 162\u001b[0m     \u001b[38;5;28;01mreturn\u001b[39;00m \u001b[43mF\u001b[49m\u001b[38;5;241;43m.\u001b[39;49m\u001b[43membedding\u001b[49m\u001b[43m(\u001b[49m\n\u001b[1;32m    163\u001b[0m \u001b[43m        \u001b[49m\u001b[38;5;28;43minput\u001b[39;49m\u001b[43m,\u001b[49m\u001b[43m \u001b[49m\u001b[38;5;28;43mself\u001b[39;49m\u001b[38;5;241;43m.\u001b[39;49m\u001b[43mweight\u001b[49m\u001b[43m,\u001b[49m\u001b[43m \u001b[49m\u001b[38;5;28;43mself\u001b[39;49m\u001b[38;5;241;43m.\u001b[39;49m\u001b[43mpadding_idx\u001b[49m\u001b[43m,\u001b[49m\u001b[43m \u001b[49m\u001b[38;5;28;43mself\u001b[39;49m\u001b[38;5;241;43m.\u001b[39;49m\u001b[43mmax_norm\u001b[49m\u001b[43m,\u001b[49m\n\u001b[1;32m    164\u001b[0m \u001b[43m        \u001b[49m\u001b[38;5;28;43mself\u001b[39;49m\u001b[38;5;241;43m.\u001b[39;49m\u001b[43mnorm_type\u001b[49m\u001b[43m,\u001b[49m\u001b[43m \u001b[49m\u001b[38;5;28;43mself\u001b[39;49m\u001b[38;5;241;43m.\u001b[39;49m\u001b[43mscale_grad_by_freq\u001b[49m\u001b[43m,\u001b[49m\u001b[43m \u001b[49m\u001b[38;5;28;43mself\u001b[39;49m\u001b[38;5;241;43m.\u001b[39;49m\u001b[43msparse\u001b[49m\u001b[43m)\u001b[49m\n",
      "File \u001b[0;32m~/.local/lib/python3.10/site-packages/torch/nn/functional.py:2233\u001b[0m, in \u001b[0;36membedding\u001b[0;34m(input, weight, padding_idx, max_norm, norm_type, scale_grad_by_freq, sparse)\u001b[0m\n\u001b[1;32m   2227\u001b[0m     \u001b[38;5;66;03m# Note [embedding_renorm set_grad_enabled]\u001b[39;00m\n\u001b[1;32m   2228\u001b[0m     \u001b[38;5;66;03m# XXX: equivalent to\u001b[39;00m\n\u001b[1;32m   2229\u001b[0m     \u001b[38;5;66;03m# with torch.no_grad():\u001b[39;00m\n\u001b[1;32m   2230\u001b[0m     \u001b[38;5;66;03m#   torch.embedding_renorm_\u001b[39;00m\n\u001b[1;32m   2231\u001b[0m     \u001b[38;5;66;03m# remove once script supports set_grad_enabled\u001b[39;00m\n\u001b[1;32m   2232\u001b[0m     _no_grad_embedding_renorm_(weight, \u001b[38;5;28minput\u001b[39m, max_norm, norm_type)\n\u001b[0;32m-> 2233\u001b[0m \u001b[38;5;28;01mreturn\u001b[39;00m \u001b[43mtorch\u001b[49m\u001b[38;5;241;43m.\u001b[39;49m\u001b[43membedding\u001b[49m\u001b[43m(\u001b[49m\u001b[43mweight\u001b[49m\u001b[43m,\u001b[49m\u001b[43m \u001b[49m\u001b[38;5;28;43minput\u001b[39;49m\u001b[43m,\u001b[49m\u001b[43m \u001b[49m\u001b[43mpadding_idx\u001b[49m\u001b[43m,\u001b[49m\u001b[43m \u001b[49m\u001b[43mscale_grad_by_freq\u001b[49m\u001b[43m,\u001b[49m\u001b[43m \u001b[49m\u001b[43msparse\u001b[49m\u001b[43m)\u001b[49m\n",
      "\u001b[0;31mIndexError\u001b[0m: index out of range in self"
     ]
    }
   ],
   "source": [
    "x, targets = get_batch('train')\n",
    "logits, loss1 = model(x, targets)\n",
    "\n",
    "x, targets = get_batch('test')\n",
    "logits, loss2 = model(x, targets)\n",
    "\n",
    "print(loss1.item(), loss2.item())\n",
    "\n",
    "generated = model.generate()\n",
    "gen = \"\".join([itoa[c.item()] for c in generated])\n",
    "print(gen)"
   ]
  },
  {
   "cell_type": "code",
   "execution_count": 22,
   "id": "a5bb2ab0-da90-409f-b917-437a0e42ea13",
   "metadata": {},
   "outputs": [
    {
     "name": "stdout",
     "output_type": "stream",
     "text": [
      "torch.Size([83, 128])\n"
     ]
    },
    {
     "data": {
      "image/png": "[encoded data removed]",
      "text/plain": [
       "<Figure size 640x480 with 1 Axes>"
      ]
     },
     "metadata": {},
     "output_type": "display_data"
    }
   ],
   "source": [
    "import matplotlib.pyplot as plt\n",
    "with torch.no_grad():\n",
    "    print(list(model.parameters())[0].shape)\n",
    "    plt.plot(torch.stack(steps).numpy()[500:])"
   ]
  },
  {
   "cell_type": "code",
   "execution_count": null,
   "id": "64d146b1-58a9-4b88-bd8d-cdeea0a288fc",
   "metadata": {},
   "outputs": [],
   "source": [
    "class FeedForward(nn.Module):\n",
    "    def __init__(self, n_embd, bias=None):\n",
    "        super().__init__()\n",
    "        self.l1 = nn.Linear(n_embd, 4 * n_embd, bias=bias)\n",
    "        self.out = nn.Linear(4 * n_embd, n_embd, bias=bias) \n",
    "        self.dropout = nn.Dropout(dropout)\n",
    "    def forward(self, x):\n",
    "        assert x.size(1) == self.l1.weight.size(1)\n",
    "        x = self.l1(x)\n",
    "        x = F.tanh(x)\n",
    "        x = self.out(x)\n",
    "        return self.dropout(x)\n",
    "\n",
    "c = FeedForward(n_embd)\n",
    "x = torch.ones(1,4)\n",
    "c(x)"
   ]
  },
  {
   "cell_type": "code",
   "execution_count": null,
   "id": "8c0a8f5e-7363-4056-9f9d-c6a004ffae89",
   "metadata": {},
   "outputs": [],
   "source": [
    "a = torch.tril(torch.arange(1, 26, dtype=torch.float64).view(5,5))\n",
    "b = torch.tril(torch.ones(5, 5, dtype=torch.float64))\n",
    "a @ b, a\n",
    "#.view(1, 1, config.block_size, config.block_size)"
   ]
  },
  {
   "cell_type": "code",
   "execution_count": null,
   "id": "7359d1ba-e51e-4d5c-b01e-bde94c4deb3e",
   "metadata": {},
   "outputs": [],
   "source": [
    "class Attention(nn.Module):\n",
    "    def __init__(self):\n",
    "    def forward(self, )"
   ]
  },
  {
   "cell_type": "code",
   "execution_count": null,
   "id": "01eb48a7-e6f1-49b0-92ee-2e9b5cd67b19",
   "metadata": {},
   "outputs": [],
   "source": [
    "class Encoder(nn.Module):\n",
    "    def forward(self, x):\n",
    "        C = self.emb(x)"
   ]
  },
  {
   "cell_type": "code",
   "execution_count": null,
   "id": "45756f65-1384-4616-84cd-cf968ce74ba3",
   "metadata": {},
   "outputs": [],
   "source": [
    "class Decoder(nn.Module):"
   ]
  }
 ],
 "metadata": {
  "kernelspec": {
   "display_name": "Python 3 (ipykernel)",
   "language": "python",
   "name": "python3"
  },
  "language_info": {
   "codemirror_mode": {
    "name": "ipython",
    "version": 3
   },
   "file_extension": ".py",
   "mimetype": "text/x-python",
   "name": "python",
   "nbconvert_exporter": "python",
   "pygments_lexer": "ipython3",
   "version": "3.10.12"
  },
  "widgets": {
   "application/vnd.jupyter.widget-state+json": {
    "state": {},
    "version_major": 2,
    "version_minor": 0
   }
  }
 },
 "nbformat": 4,
 "nbformat_minor": 5
}
