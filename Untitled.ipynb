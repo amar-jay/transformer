{
 "cells": [
  {
   "cell_type": "code",
   "execution_count": 3,
   "id": "dc968ac5-ed02-46b3-b06c-869786046bd8",
   "metadata": {},
   "outputs": [
    {
     "data": {
      "text/plain": [
       "'2.1.1+cu121'"
      ]
     },
     "execution_count": 3,
     "metadata": {},
     "output_type": "execute_result"
    }
   ],
   "source": [
    "import torch\n",
    "from torch import nn\n",
    "import torch.nn.functional as F\n",
    "\n",
    "#hyper-params\n",
    "block_size = 64 # length of the input sequences of integers\n",
    "batch_size = 4\n",
    "n_layer = 4\n",
    "n_embd = 128\n",
    "n_head = 4\n",
    "dropout = 0.2\n",
    "vocab_size=83\n",
    "n_head = 4\n",
    "\n",
    "torch.__version__\n"
   ]
  },
  {
   "cell_type": "code",
   "execution_count": 9,
   "id": "ec973f88-b791-4ffc-9c1c-a7e75404086e",
   "metadata": {},
   "outputs": [
    {
     "name": "stdout",
     "output_type": "stream",
     "text": [
      "Akşam erken iner mahpushaneye. Ejderha olsan kar etmez. Ne kavgada ustalığın, Ne de çatal yürek civa\n",
      "data: 3370 count:  (3153, 1958)\n"
     ]
    }
   ],
   "source": [
    "import json\n",
    "import re\n",
    "turkish_pattern = re.compile(r'^[0-9a-zA-ZâçÇğĞıİöÖşŞüÜ\\-\\,\\\"\\'\\!\\?\\.\\n\\s]+$')\n",
    "# num_pattern = re.compile(r'[]+')\n",
    "valid_poems = [] # list of valid poem titles\n",
    "full_text = \"\"\n",
    "with open(\"dataset.json\", \"r\") as f:\n",
    "    data = json.loads(f.read())\n",
    "    count_x = 0\n",
    "    count_y = 0\n",
    "    for i in range(len(data)):\n",
    "        title = data[i]['baslik'].strip().split()\n",
    "        title = \" \".join(title)\n",
    "        author = data[i]['sair'].strip().split()\n",
    "        author = \" \".join(author)\n",
    "        content = data[i]['icerik']\n",
    "        content = \" \".join(content[1:-1])\n",
    "        if re.match(turkish_pattern, title) and re.match(turkish_pattern, author):\n",
    "            count_x += 1\n",
    "            valid_poems.append(title)\n",
    "        if re.match(turkish_pattern, content):\n",
    "            count_y += 1\n",
    "            full_text += content + \".\\n\\n\"\n",
    "    print(full_text[:100])\n",
    "    print(\"data:\", len(data), \"count: \", (count_x, count_y))"
   ]
  },
  {
   "cell_type": "code",
   "execution_count": 10,
   "id": "d3cd66e4-6135-406a-b5c4-c01795569d11",
   "metadata": {},
   "outputs": [
    {
     "name": "stdout",
     "output_type": "stream",
     "text": [
      "dict_keys(['\\n', ' ', '!', '\"', \"'\", ',', '-', '.', '0', '1', '2', '3', '4', '5', '6', '7', '8', '9', '?', 'A', 'B', 'C', 'D', 'E', 'F', 'G', 'H', 'I', 'J', 'K', 'L', 'M', 'N', 'O', 'P', 'Q', 'R', 'S', 'T', 'U', 'V', 'W', 'X', 'Y', 'Z', 'a', 'b', 'c', 'd', 'e', 'f', 'g', 'h', 'i', 'j', 'k', 'l', 'm', 'n', 'o', 'p', 'r', 's', 't', 'u', 'v', 'w', 'x', 'y', 'z', 'Ç', 'Ö', 'Ü', 'â', 'ç', 'ö', 'ü', 'Ğ', 'ğ', 'İ', 'ı', 'Ş', 'ş'])\n",
      "vocab size:  83\n"
     ]
    }
   ],
   "source": [
    "vocabs = sorted(list(set(full_text)))\n",
    "itoa= dict(enumerate(vocabs))\n",
    "atoi = {c: i for i, c in itoa.items()}\n",
    "encoded = [atoi[c] for c in full_text]\n",
    "print(atoi.keys())\n",
    "vocab_size = len(vocabs)\n",
    "print(\"vocab size: \", vocab_size)"
   ]
  },
  {
   "cell_type": "code",
   "execution_count": 11,
   "id": "024fa933-f902-4dd2-b837-cf0ffc2028ec",
   "metadata": {},
   "outputs": [
    {
     "name": "stdout",
     "output_type": "stream",
     "text": [
      "r sözlük kadar kâlbin var bugün okul var ÜLKÜM ülküm YÜKSELMEK yük yük selmek İLERİYEGİTMEKTİR i i ileriy egitmek tir YURDUMU yu\n"
     ]
    },
    {
     "data": {
      "text/plain": [
       "(torch.Size([4, 64]), torch.Size([4, 64]))"
      ]
     },
     "execution_count": 11,
     "metadata": {},
     "output_type": "execute_result"
    }
   ],
   "source": [
    "n = int(0.99 * len(encoded))\n",
    "train_data = torch.tensor(encoded[:n])\n",
    "test_data = torch.tensor(encoded[n:])\n",
    "print(\"\".join([itoa[i.item()] for i in test_data[:128]]))\n",
    "val = [0] * block_size;\n",
    "vals = []\n",
    "for i in range(block_size):\n",
    "    context = test_data[:i+1]\n",
    "    target = test_data[i+1]\n",
    "    # vals.append((context, target))\n",
    "# print(vals)\n",
    "\n",
    "def get_batch(dataset): # fetching batches randomly\n",
    "    dataset = train_data if dataset == 'train' else test_data\n",
    "    idx = torch.randint(0, len(dataset)-block_size-1, (batch_size,))\n",
    "    x = [dataset[i: i+block_size] for i in idx]\n",
    "    y = [dataset[i+1: i+block_size+1] for i in idx]\n",
    "    return torch.stack(x), torch.stack(y)\n",
    "x, y = get_batch('test')\n",
    "x.shape, y.shape"
   ]
  },
  {
   "cell_type": "code",
   "execution_count": 11,
   "id": "ae7a9c0e-33e8-4971-9eac-bd9b94946a56",
   "metadata": {},
   "outputs": [
    {
     "name": "stdout",
     "output_type": "stream",
     "text": [
      "step: 0 / 2000 loss:  4.531879687131866\n",
      "step: 500 / 2000 loss:  3.540856917738638\n",
      "step: 1000 / 2000 loss:  3.0426284221750106\n",
      "step: 1500 / 2000 loss:  2.6102459919208028\n"
     ]
    }
   ],
   "source": [
    "torch.manual_seed(0)\n",
    "# a simple model with positional embedding\n",
    "class Bigram(nn.Module):\n",
    "    def __init__(self, vocab_size):\n",
    "        super().__init__()\n",
    "        self.tok_emb = nn.Embedding(vocab_size, n_embd, dtype=torch.float64) \n",
    "        self.pos_emb = nn.Embedding(block_size, n_embd, dtype=torch.float64) # positional embedding\n",
    "        self.out = nn.Linear(n_embd, vocab_size, bias=False, dtype=torch.float64)\n",
    "\n",
    "    # self.emb.weight /= (n_embd**0.5)\n",
    "    def forward(self, x, targets=None):\n",
    "        loss = None\n",
    "        tok_emb = self.tok_emb(x) #(B, T, C)\n",
    "        _, T, _ = tok_emb.shape\n",
    "\n",
    "        assert T <= block_size, f\"Cannot forward sequence of length {T}, block size is only {block_size}\"\n",
    "\n",
    "        pos_emb = self.pos_emb(torch.arange(T, dtype=torch.long).unsqueeze(0)) #(1, T, C)\n",
    "        \n",
    "        x = tok_emb + pos_emb\n",
    "        \n",
    "        x = self.out(F.gelu(x))\n",
    "        B, T, C = x.shape\n",
    "        \n",
    "        loss = F.cross_entropy(x.view(B*T, C), targets.view(B*T), ignore_index=-1) if targets is not None else None\n",
    "        return x, loss\n",
    "    \n",
    "    @torch.no_grad()\n",
    "    def generate(self, idx=None, max_tokens=10):\n",
    "        idx = torch.tensor(0).view(1,1) if idx is None else idx\n",
    "        for i in range(max_tokens):\n",
    "            # if the sequence context is growing too long we must crop it at block_size\n",
    "            idx_cond = idx if idx.size(1) <= block_size else idx[:, -block_size:]\n",
    "            logits, _ = self(idx_cond) # (B, T, C)\n",
    "            # print(logits.shape)\n",
    "            \n",
    "            probs = F.softmax(logits[:, -1, :], dim=-1) # (B, C)\n",
    "            \n",
    "            idx_next = torch.multinomial(probs, num_samples=1)\n",
    "\n",
    "            # append sampled index to the running sequence and continue\n",
    "            idx = torch.cat((idx, idx_next), dim=1)\n",
    "        return idx\n",
    "\n",
    "epoch = 4000\n",
    "model = Bigram(vocab_size)\n",
    "lrs = torch.linspace(-3, 0, epoch)\n",
    "lrs = 10**lrs\n",
    "optim = torch.optim.AdamW(model.parameters(), lr=0.1)\n",
    "steps = []\n",
    "for i in range(epoch):\n",
    "    x, targets = get_batch('train')\n",
    "    # print(x.shape)\n",
    "    logits, loss = model(x, targets)\n",
    "    optim.zero_grad(set_to_none=True)\n",
    "    # loss.grad = 0\n",
    "    loss.backward()\n",
    "    for m in model.parameters():\n",
    "        m.data -= lrs[i]* m.grad \n",
    "    # optim.step()\n",
    "    steps.append(loss)\n",
    "    if i % 500 == 0:\n",
    "        print(\"step:\", i,\"/\",epoch, \"loss: \", loss.item())"
   ]
  },
  {
   "cell_type": "code",
   "execution_count": 134,
   "id": "c9f4525a-6214-4561-b536-51886f9b73a5",
   "metadata": {},
   "outputs": [
    {
     "name": "stdout",
     "output_type": "stream",
     "text": [
      "torch.Size([1, 55]) 55 55\n",
      "tensor([[ 5,  6,  7,  8,  9, 10, 11, 12, 13, 14, 15, 16, 17, 18, 19, 20, 21, 22,\n",
      "         23, 24, 25, 26, 27, 28, 29, 30, 31, 32, 33, 34, 35, 36, 37, 38, 39, 40,\n",
      "         41, 42, 43, 44, 45, 46, 47, 48, 49, 50, 51, 52, 53, 54]]) tensor([[ 0,  1,  2,  3,  4,  5,  6,  7,  8,  9, 10, 11, 12, 13, 14, 15, 16, 17,\n",
      "         18, 19, 20, 21, 22, 23, 24, 25, 26, 27, 28, 29, 30, 31, 32, 33, 34, 35,\n",
      "         36, 37, 38, 39, 40, 41, 42, 43, 44, 45, 46, 47, 48, 49, 50, 51, 52, 53,\n",
      "         54]])\n"
     ]
    },
    {
     "data": {
      "text/plain": [
       "(1, 55, 128, torch.Size([3, 128]), torch.Size([1, 3, 128]))"
      ]
     },
     "execution_count": 134,
     "metadata": {},
     "output_type": "execute_result"
    }
   ],
   "source": [
    "\n",
    "x = torch.zeros((1,3), dtype=torch.long)\n",
    "res = nn.Embedding(vocab_size, n_embd, dtype=torch.float64)(x)\n",
    "B, T, C = res.shape\n",
    "pos = nn.Embedding(block_size, n_embd, dtype=torch.float64)(torch.arange(T))\n",
    "x = pos + res\n",
    "\n",
    "idx = torch.arange(55).view(1, -1)\n",
    "B, T = idx.shape \n",
    "print(idx.shape, T, idx.size(1))\n",
    "ctx_len = 50\n",
    "idx_cond = idx if idx.size(1) <= ctx_len else idx[:, -ctx_len:]\n",
    "print(idx_cond, idx)\n",
    "B, T, C, pos.shape, x.shape\n",
    "# emb(x).shape, block_size"
   ]
  },
  {
   "cell_type": "code",
   "execution_count": 12,
   "id": "802ab215-3238-46ed-86f6-25acba3b904a",
   "metadata": {},
   "outputs": [
    {
     "name": "stdout",
     "output_type": "stream",
     "text": [
      "2.7730094600565343 2.7238609467553094\n",
      "\n",
      "rtüzihçen sinfklıseneyenneyar yer Aarerdüm yir aerlındiririerı eliklarürir, or sn di!üzemderiTYlegüz, silurinveayartariberirdundirüreklinvbo kudeleyeler yir şe nr hare yü yarutılulkan der vidir orünk biroleteriyelarergir gölerir plenei i ser, Aş Hezun1O den, Lensondurizaşlüzsilıyerınsan vlardelinlenerı selerilar staçe,rvir Ydüibüzederizelar stririrklerdüşer, tardışlden den Kizekindirerarişlandürari B lardde dendikinirarır,enerkariAirltikküriştlererçarileleğÜresiyiserde ayl öğgür yedererızalarirışerde tluelmasektışerdenıyocurdendarir yo kardibidet'rin sünın.laplarderışün Gmılarenişıyın Butrderızerli vir rrenerzüme,sele. ezoyplkioy, yelar, bigö çehiler deserar i ör cer urluhtüşüzarlar'üzar çei çecdeçtikterüsuşinı enıştyarermargüzden slorÇılTdünı derendardstldu B Zerpkttiverik dıyelşannarer çir, tder Kerusin ThhkarisınrOtlğnerdirderir ordendıteşınktiçınlarenirdellerderılnsışari üşir uşesr se dirimtleritiyarte ktlar.vıryelardp erürıl V sirtlmlehışışedelerderizardelirikir Yerdidir sın yardü\n"
     ]
    }
   ],
   "source": [
    "x, targets = get_batch('train')\n",
    "logits, loss1 = model(x, targets)\n",
    "\n",
    "x, targets = get_batch('test')\n",
    "logits, loss2 = model(x, targets)\n",
    "\n",
    "print(loss1.item(), loss2.item())\n",
    "\n",
    "generated = model.generate(max_tokens=1000)\n",
    "gen = \"\".join(itoa[i.item()] for i in generated.view(-1))\n",
    "print(gen)"
   ]
  },
  {
   "cell_type": "code",
   "execution_count": 10,
   "id": "a5bb2ab0-da90-409f-b917-437a0e42ea13",
   "metadata": {},
   "outputs": [
    {
     "name": "stdout",
     "output_type": "stream",
     "text": [
      "torch.Size([83, 128])\n"
     ]
    },
    {
     "data": {
      "image/png": "[encoded data removed]",
      "text/plain": [
       "<Figure size 640x480 with 1 Axes>"
      ]
     },
     "metadata": {},
     "output_type": "display_data"
    }
   ],
   "source": [
    "import matplotlib.pyplot as plt\n",
    "with torch.no_grad():\n",
    "    print(list(model.parameters())[0].shape)\n",
    "    plt.plot(torch.log10(lrs).numpy(), torch.stack(steps).numpy())"
   ]
  },
  {
   "cell_type": "code",
   "execution_count": 53,
   "id": "64d146b1-58a9-4b88-bd8d-cdeea0a288fc",
   "metadata": {},
   "outputs": [
    {
     "data": {
      "text/plain": [
       "torch.Size([2, 128])"
      ]
     },
     "execution_count": 53,
     "metadata": {},
     "output_type": "execute_result"
    }
   ],
   "source": [
    "class FeedForward(nn.Module):\n",
    "    def __init__(self, fan_in_out, n_embd, bias=None):\n",
    "        super().__init__()\n",
    "        self.fan_in_out = fan_in_out\n",
    "        # MLP assembler\n",
    "        self.mlp = nn.Sequential(\n",
    "            nn.Linear(fan_in_out, n_embd),\n",
    "            nn.LayerNorm(n_embd),\n",
    "            nn.GELU(),\n",
    "            nn.Dropout(0.2), # mlp dropout, just prefer dropout between layers rather than at the end.\n",
    "            nn.Linear(n_embd, fan_in_out),\n",
    "        )\n",
    "        \n",
    "    def forward(self, x):\n",
    "        assert x.size(-1) == self.fan_in_out\n",
    "        return self.mlp(x)\n",
    "\n",
    "c = FeedForward(n_embd, 4*n_embd)\n",
    "x = torch.ones(2,n_embd)\n",
    "c(x).shape"
   ]
  },
  {
   "cell_type": "code",
   "execution_count": 50,
   "id": "7c948bb4-8bf6-4164-ac5b-36f407a04ef5",
   "metadata": {},
   "outputs": [
    {
     "data": {
      "text/plain": [
       "tensor([[1.0000, 0.0000, 0.0000, 0.0000, 0.0000, 0.0000],\n",
       "        [0.2689, 0.7311, 0.0000, 0.0000, 0.0000, 0.0000],\n",
       "        [0.0900, 0.2447, 0.6652, 0.0000, 0.0000, 0.0000],\n",
       "        [0.0321, 0.0871, 0.2369, 0.6439, 0.0000, 0.0000],\n",
       "        [0.0117, 0.0317, 0.0861, 0.2341, 0.6364, 0.0000],\n",
       "        [0.0043, 0.0116, 0.0315, 0.0858, 0.2331, 0.6337]])"
      ]
     },
     "execution_count": 50,
     "metadata": {},
     "output_type": "execute_result"
    }
   ],
   "source": [
    "idx = torch.arange(36).view(6, 6)\n",
    "# idx = torch.ones(6,6)\n",
    "# print(torch.roll(idx, shifts=(2, 1), dims=(0,1)), idx)\n",
    "idx = idx.view(1, 6, 6)\n",
    "idx = idx.expand(4, -1, -1)\n",
    "idx = idx.float()\n",
    "c = torch.tril(torch.ones(6, 6)).view(1, 6, 6).expand(4, -1, -1)\n",
    "logits = idx.masked_fill(c == 0, float('-inf'))\n",
    "F.softmax(logits, dim=-1)[0]\n",
    "# print(idx.shape)"
   ]
  },
  {
   "cell_type": "code",
   "execution_count": null,
   "id": "8c0a8f5e-7363-4056-9f9d-c6a004ffae89",
   "metadata": {},
   "outputs": [],
   "source": [
    "a = torch.tril(torch.arange(1, 26, dtype=torch.float64).view(5,5))\n",
    "b = torch.tril(torch.ones(5, 5, dtype=torch.float64))\n",
    "a @ b, a\n",
    "#.view(1, 1, config.block_size, config.block_size)"
   ]
  },
  {
   "cell_type": "code",
   "execution_count": 245,
   "id": "7359d1ba-e51e-4d5c-b01e-bde94c4deb3e",
   "metadata": {},
   "outputs": [],
   "source": [
    "class BoW(nn.Module):\n",
    "    def __init__(self):\n",
    "        super().__init__()\n",
    "        self.block_size = block_size\n",
    "        self.tok_emb = nn.Embedding(vocab_size, n_embd)\n",
    "        self.pos_emb = nn.Embedding(block_size, n_embd)\n",
    "        self.register_buffer(\"bias\", torch.tril(torch.ones(block_size, block_size))\n",
    "                            .view(1, block_size, block_size).expand(4, -1, -1))\n",
    "        \n",
    "        # MLP assembler\n",
    "        self.mlp = nn.ModuleDict(dict(\n",
    "            c_fc    = nn.Linear(n_embd, 4*n_embd),\n",
    "            c_proj  = nn.Linear(4*n_embd, n_embd),\n",
    "        ))\n",
    "        \n",
    "        # output layer\n",
    "        self.out = nn.Linear(n_embd, vocab_size)\n",
    "        m = self.mlp\n",
    "        self.mlpf = lambda x: m.c_proj(F.gelu(m.c_fc(x))) # MLP forward\n",
    "\n",
    "    def masked_att(self, x):\n",
    "        B, T, C = x.shape\n",
    "        att = torch.zeros(B, T, T)\n",
    "        att = att.masked_fill(self.bias[:,:T,:T] == 0, float('-inf'))\n",
    "        att = F.softmax(att, dim=-1)\n",
    "        y = att @ x\n",
    "        assert x.shape == y.shape\n",
    "        return y\n",
    "        \n",
    "    def forward(self, x, targets=None):\n",
    "        tok = self.tok_emb(x)\n",
    "        \n",
    "        assert tok.size(1) <= block_size, f\"Cannot forward sequence of length {T}, block size is only {block_size}\"\n",
    "\n",
    "        pos = self.pos_emb(torch.arange(tok.size(1), dtype=torch.long).unsqueeze(0)) #(1, T, C)\n",
    "        \n",
    "        x = tok + pos\n",
    "        x = x + self.masked_att(x)\n",
    "        x = x + self.mlpf(x)\n",
    "        x = self.out(x)\n",
    "        B, T, C = x.shape\n",
    "        loss = F.cross_entropy(x.view(B*T, C), targets.view(B*T), ignore_index=-1) if targets is not None else None\n",
    "        return x, loss"
   ]
  },
  {
   "cell_type": "code",
   "execution_count": 252,
   "id": "481a0e6c-5add-4b20-9a97-2c8b94cca0e3",
   "metadata": {},
   "outputs": [
    {
     "data": {
      "text/plain": [
       "tensor(4.7144, grad_fn=<NllLossBackward0>)"
      ]
     },
     "execution_count": 252,
     "metadata": {},
     "output_type": "execute_result"
    }
   ],
   "source": [
    "model = BoW()\n",
    "x, y = get_batch(\"train\")\n",
    "_, loss = model(x, y)\n",
    "loss\n"
   ]
  },
  {
   "cell_type": "code",
   "execution_count": 62,
   "id": "a4f2cd71-02cf-43d4-8c99-48df6ac3790b",
   "metadata": {},
   "outputs": [],
   "source": [
    "class Attention(nn.Module):\n",
    "    def __init__(self, mask=None):\n",
    "        super().__init__()\n",
    "\n",
    "        self.n_head = n_head\n",
    "        self.affine = nn.Linear(n_embd, 3*n_embd)\n",
    "        self.drop = dropout\n",
    "        self.dropout1 = nn.Dropout(self.drop)\n",
    "        self.dropout2 = nn.Dropout(self.drop)\n",
    "\n",
    "\n",
    "        # https://github.com/karpathy/nanoGPT/blob/master/model.py#L45C1-L46C1\n",
    "        self.flash = hasattr(torch.nn.functional, 'scaled_dot_product_attention')\n",
    "        if not self.flash:\n",
    "            self.register_buffer(\"mask\", torch.tril(torch.ones(block_size, block_size))\n",
    "                             .view(1, block_size, block_size).expand(4, -1, -1)\n",
    "                             if mask is None else mask)\n",
    "\n",
    "        self.out = nn.Linear(n_embd, n_embd)\n",
    "\n",
    "    def forward(self, x):\n",
    "        B, T, C = x.shape\n",
    "        q, k, v  = self.affine(x).chunk(3, dim=2)\n",
    "        # att = torch.zeros(B, T, T) # <- here\n",
    "\n",
    "        assert C % self.n_head == 0, f\"{self.n_head=} is supposed to be a multiple of {C=}\"\n",
    "        \n",
    "        key = k.view(B, T, self.n_head, C//self.n_head).transpose(2, 1) # (B, n_head, T, head_dim) \n",
    "        query = q.view(B, T, self.n_head, C//self.n_head).transpose(2, 1) # (B, n_head, T,  head_dim)\n",
    "        value = v.view(B, T, self.n_head, C//self.n_head).transpose(2, 1) # (B, n_head, T,  head_dim)\n",
    "\n",
    "        if self.flash: # causal self-attention; Self-attend: (B, nh, T, hs) x (B, nh, hs, T) -> (B, nh, T, T)\n",
    "            # efficient attention using Flash Attention CUDA kernels\n",
    "            y = torch.nn.functional.scaled_dot_product_attention(query, key, value, attn_mask=None, dropout_p=self.drop, is_causal=True)\n",
    "        \n",
    "        else:\n",
    "            att = (query @ key.transpose(2, 3)) / math.sqrt(C//self.n_head)\n",
    "            att = att.masked_fill(self.mask[:,:T,:T] == 0, float('-inf'))\n",
    "            att = F.softmax(att, dim=-1)\n",
    "    \n",
    "            att = self.dropout1(att)\n",
    "            y = att @ value\n",
    "            \n",
    "        y = y.transpose(1, 2).contiguous().view(B, T, C)\n",
    "        y= self.out(y)\n",
    "        \n",
    "        assert x.shape == y.shape\n",
    "        return self.dropout2(y)\n"
   ]
  },
  {
   "cell_type": "code",
   "execution_count": 63,
   "id": "01eb48a7-e6f1-49b0-92ee-2e9b5cd67b19",
   "metadata": {},
   "outputs": [],
   "source": [
    "import math\n",
    "\n",
    "class Embedding(nn.Module): # token and positional embedding\n",
    "    def __init__(self, vocab_size, n_embd, dropout=0.2):\n",
    "        super().__init__()\n",
    "        self.block_size = block_size\n",
    "        self.tok_emb = nn.Embedding(vocab_size, n_embd)\n",
    "        self.pos_emb = nn.Embedding(block_size, n_embd)\n",
    "        self.dropout = nn.Dropout(dropout) # embedding dropout\n",
    "\n",
    "    \n",
    "    def forward(self, x): # -> returns (B, T, n_embd)\n",
    "        tok = self.tok_emb(x)\n",
    "        \n",
    "        assert tok.size(1) <= block_size, f\"Cannot forward sequence of length {T}, block size is only {block_size}\"\n",
    "# \n",
    "        pos = self.pos_emb(torch.arange(tok.size(1), dtype=torch.long).unsqueeze(0)) #(1, T, C)\n",
    "        \n",
    "        x = tok + pos\n",
    "        \n",
    "        return self.dropout(x)\n",
    "\n",
    "\n",
    "class DecoderBlock(nn.Module):\n",
    "    def __init__(self):\n",
    "        super().__init__()\n",
    "        self.ma_ln = nn.LayerNorm(n_embd)\n",
    "        self.masked_att = Attention()\n",
    "        \n",
    "        # MLP assembler\n",
    "        self.mlp_ln = nn.LayerNorm(n_embd)\n",
    "        self.mlp = FeedForward(n_embd, 4*n_embd)\n",
    "\n",
    "\n",
    "        \n",
    "    def forward(self, x):\n",
    "        x = x + self.masked_att(self.ma_ln(x)) # seen in a lot of reference that normalization is done before layer rather than after skip connections.\n",
    "        x = x + self.mlp(self.mlp_ln(x))  \n",
    "        return x\n",
    "\n",
    "class Decoder(nn.Module):\n",
    "    def __init__(self):\n",
    "        super().__init__()\n",
    "        self.block_size = block_size\n",
    "        self.emb = Embedding(vocab_size, n_embd, dropout=dropout)\n",
    "\n",
    "        self.block = nn.Sequential(DecoderBlock() for i in range(n_block))\n",
    "        \n",
    "        # MLP assembler\n",
    "        self.ln = nn.LayerNorm(n_embd)\n",
    "\n",
    "        self.out = nn.Linear(n_embd, vocab_size)\n",
    "\n",
    "\n",
    "        \n",
    "    def forward(self, x, targets=None):\n",
    "        x = self.emb(x) #(B, T, n_embd)\n",
    "        \n",
    "        x = self.block(x) # seen in a lot of reference that normalization is done before layer rather than after skip connections.\n",
    "        x = self.ln(x)\n",
    "        x = self.out(x) # (B, T, vocab_size)\n",
    "        \n",
    "        B, T, C = x.shape\n",
    "        loss = F.cross_entropy(x.view(B*T, C), targets.view(B*T), ignore_index=-1) if targets is not None else None\n",
    "        \n",
    "        return x, loss"
   ]
  },
  {
   "cell_type": "code",
   "execution_count": 64,
   "id": "e03b189c-b12c-48ab-8fc7-11e46b24fb4e",
   "metadata": {},
   "outputs": [
    {
     "name": "stdout",
     "output_type": "stream",
     "text": [
      "torch.Size([10, 2, 10, 5])\n",
      "tensor(True)\n"
     ]
    },
    {
     "data": {
      "text/plain": [
       "tensor(4.8961, grad_fn=<NllLossBackward0>)"
      ]
     },
     "execution_count": 64,
     "metadata": {},
     "output_type": "execute_result"
    }
   ],
   "source": [
    "model = Decoder()\n",
    "v = torch.arange(1000).view(10, 10, 10)\n",
    "idx = v.view(10, 10, 2, 5)\n",
    "idx = idx.transpose(1, 2)\n",
    "print(idx.shape)\n",
    "idx = idx.transpose(1, 2).view(10, 10, -1)\n",
    "print((idx==v).all())\n",
    "\n",
    "x, y = get_batch(\"train\")\n",
    "_, loss = model(x, y)\n",
    "loss\n"
   ]
  },
  {
   "cell_type": "code",
   "execution_count": 4,
   "id": "45756f65-1384-4616-84cd-cf968ce74ba3",
   "metadata": {},
   "outputs": [],
   "source": [
    "import math\n",
    "class Encoder(nn.Module):\n",
    "    def __init__(self):\n",
    "        super().__init__()\n",
    "        self.block_size = block_size\n",
    "        self.tok_emb = nn.Embedding(vocab_size, n_embd)\n",
    "        self.pos_emb = nn.Embedding(block_size, n_embd)\n",
    "        self.register_buffer(\"bias\", torch.tril(torch.ones(block_size, block_size))\n",
    "                            .view(1, block_size, block_size).expand(4, -1, -1))\n",
    "        \n",
    "        self.c_attn    = nn.Linear(n_embd, 3 * n_embd, bias=True) # expansion of layer for attention\n",
    "\n",
    "        # MLP assembler\n",
    "        self.mlp = nn.ModuleDict(dict(\n",
    "            c_fc    = nn.Linear(n_embd, 4*n_embd),\n",
    "            c_proj  = nn.Linear(4*n_embd, n_embd),\n",
    "        ))\n",
    "        m = self.mlp\n",
    "        self.mlpf = lambda x: m.c_proj(F.gelu(m.c_fc(x))) # MLP forward\n",
    "        self.ln = nn.LayerNorm(n_embd)\n",
    "        self.out = nn.Linear(n_embd, vocab_size)\n",
    "\n",
    "    def emb(self, x): # -> returns (B, T, n_embd)\n",
    "        tok = self.tok_emb(x)\n",
    "        \n",
    "        assert tok.size(1) <= block_size, f\"Cannot forward sequence of length {T}, block size is only {block_size}\"\n",
    "# \n",
    "        pos = self.pos_emb(torch.arange(tok.size(1), dtype=torch.long).unsqueeze(0)) #(1, T, C)\n",
    "        \n",
    "        x = tok + pos\n",
    "        self.n_head = n_head\n",
    "        return x\n",
    "    def attention(self, key, query, values, mask=None):\n",
    "        shape = query.shape\n",
    "        B, T, C = shape\n",
    "        \n",
    "        assert C % n_head == 0, f\"{n_head=} is supposed to be a multiple of {C=}\"\n",
    "        head_dim = C // n_head\n",
    "\n",
    "  \n",
    "        key = key.view(B,   T, n_head, head_dim).transpose(2, 1) # (B, n_head, T, head_dim) \n",
    "        query = query.view(B, T, n_head, head_dim).transpose(2, 1) # (B, n_head, T,  head_dim)\n",
    "        values = values.view(B, T, n_head, head_dim).transpose(2, 1) # (B, n_head, T,  head_dim)\n",
    "\n",
    "        # in the repo, the keys, queries and values were independently passed through a linear layet before attention, \n",
    "        # I still don't understand the reason why? I did not do so tho.\n",
    "        \n",
    "        att = (query @ key.transpose(2, 3)) / math.sqrt(key.size(-1))\n",
    "        if mask is not None:\n",
    "            att = att.masked_fill(mask[:,:T,:T] == 0, float('-inf'))\n",
    "        att = F.softmax(att, dim=-1)\n",
    "        \n",
    "        y = att @ values\n",
    "\n",
    "        y = y.transpose(1, 2)\n",
    "        y = y.contiguous().view(B, T, C)\n",
    "        \n",
    "        assert shape == y.shape, f\"{shape} {y.shape}\"\n",
    "        return y\n",
    "        \n",
    "    def forward(self, x, targets=None):\n",
    "        x = self.emb(x) #(B, T, n_embd)\n",
    "        \n",
    "        # I have no idea how the keys, queries and values are generated and used,\n",
    "        # so, what I ended up doing, is similar to what I saw in \n",
    "        # https://github.com/codertimo/BERT-pytorch/blob/master/bert_pytorch/model/transformer.py#L29\n",
    "        # which is repeat x along the keys, queries and values. \n",
    "        # I am not clear how the encoder, and decoder block are connected tho.\n",
    "        x = x + self.attention(x, x, x)\n",
    "        x = x + self.mlpf(x)\n",
    "        x = self.ln(x)\n",
    "        x = self.out(x) # (B, T, vocab_size) is this needed?\n",
    "        B, T, C = x.shape\n",
    "        loss = F.cross_entropy(x.view(B*T, C), targets.view(B*T), ignore_index=-1) if targets is not None else None\n",
    "        return x, loss"
   ]
  },
  {
   "cell_type": "code",
   "execution_count": 425,
   "id": "4d9fc4f9-e6c8-4cf2-8ea5-b735de14158c",
   "metadata": {},
   "outputs": [
    {
     "data": {
      "text/plain": [
       "4.584463596343994"
      ]
     },
     "execution_count": 425,
     "metadata": {},
     "output_type": "execute_result"
    }
   ],
   "source": [
    "model = Encoder()\n",
    "x, y = get_batch(\"train\")\n",
    "_, loss = model(x, y)\n",
    "loss.item()\n"
   ]
  }
 ],
 "metadata": {
  "kernelspec": {
   "display_name": "Python 3 (ipykernel)",
   "language": "python",
   "name": "python3"
  },
  "language_info": {
   "codemirror_mode": {
    "name": "ipython",
    "version": 3
   },
   "file_extension": ".py",
   "mimetype": "text/x-python",
   "name": "python",
   "nbconvert_exporter": "python",
   "pygments_lexer": "ipython3",
   "version": "3.10.12"
  },
  "widgets": {
   "application/vnd.jupyter.widget-state+json": {
    "state": {},
    "version_major": 2,
    "version_minor": 0
   }
  }
 },
 "nbformat": 4,
 "nbformat_minor": 5
}
